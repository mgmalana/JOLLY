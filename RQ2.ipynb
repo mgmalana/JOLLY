{
 "cells": [
  {
   "cell_type": "markdown",
   "metadata": {},
   "source": [
    "## RQ 2: What is the performance distribution given the respective achievement level of the pair programmers?\n",
    "\n",
    "Investigation of debugging scores differences basing from achievement level groups \n",
    "- Determine each student’s achievement level by mean score -- when pre-test score is below the mean, the student will be tagged as a Low performer, and the otherwise High performer\n",
    "- Assign pairs to three achievement level groups: High-High, High-Low, and Low-Low performers\n",
    "- Assign the pair’s debugging score differences to the achievement level groups\n",
    "- Investigate properties through distribution analysis\n"
   ]
  },
  {
   "cell_type": "code",
   "execution_count": 105,
   "metadata": {},
   "outputs": [
    {
     "name": "stdout",
     "output_type": "stream",
     "text": [
      "Populating the interactive namespace from numpy and matplotlib\n"
     ]
    }
   ],
   "source": [
    "import pandas as pd\n",
    "import seaborn as sns\n",
    "\n",
    "%pylab inline"
   ]
  },
  {
   "cell_type": "code",
   "execution_count": 123,
   "metadata": {},
   "outputs": [],
   "source": [
    "cols_classes = ['ArgCcl', 'ArgCnt', 'ArgCon', 'ArgEla', 'ArgRsn', 'EliOpn', 'EliPrp', 'EliSet', 'EliVer',\n",
    "                'ImpAct', 'ImpFoc', 'InfAct', 'InfNeg', 'InfNeu', 'InfNon', 'InfPos', 'InfSoc', 'InfSol',\n",
    "                'InfStm', 'ResCfm', 'ResDen','ResSol', 'ResStm']\n",
    "class_group = ['Arg', 'Eli', 'Imp', 'Inf', 'Res']\n",
    "cols_classes_groups = ['grp_' + grp for grp in class_group]\n",
    "cols_tests = ['pre_test_score', 'self_efficacy', 'debugging_scores']"
   ]
  },
  {
   "cell_type": "code",
   "execution_count": 128,
   "metadata": {},
   "outputs": [],
   "source": [
    "stud_df = pd.read_csv(\"data/proc/student_data.csv\", index_col=\"student\")"
   ]
  },
  {
   "cell_type": "code",
   "execution_count": 129,
   "metadata": {},
   "outputs": [
    {
     "data": {
      "text/plain": [
       "Static     59\n",
       "Dynamic    50\n",
       "Name: static_or_dynamic, dtype: int64"
      ]
     },
     "execution_count": 129,
     "metadata": {},
     "output_type": "execute_result"
    }
   ],
   "source": [
    "stud_df[\"static_or_dynamic\"].value_counts()"
   ]
  },
  {
   "cell_type": "code",
   "execution_count": 137,
   "metadata": {},
   "outputs": [
    {
     "name": "stderr",
     "output_type": "stream",
     "text": [
      "/home/jerelyn/miniconda3/lib/python3.6/site-packages/ipykernel_launcher.py:7: SettingWithCopyWarning: \n",
      "A value is trying to be set on a copy of a slice from a DataFrame.\n",
      "Try using .loc[row_indexer,col_indexer] = value instead\n",
      "\n",
      "See the caveats in the documentation: http://pandas.pydata.org/pandas-docs/stable/indexing.html#indexing-view-versus-copy\n",
      "  import sys\n",
      "/home/jerelyn/miniconda3/lib/python3.6/site-packages/ipykernel_launcher.py:8: SettingWithCopyWarning: \n",
      "A value is trying to be set on a copy of a slice from a DataFrame.\n",
      "Try using .loc[row_indexer,col_indexer] = value instead\n",
      "\n",
      "See the caveats in the documentation: http://pandas.pydata.org/pandas-docs/stable/indexing.html#indexing-view-versus-copy\n",
      "  \n"
     ]
    }
   ],
   "source": [
    "df_stud_static = df[df[\"static_or_dynamic\"] == \"Static\"]\n",
    "df_stud_dynamic = df[df[\"static_or_dynamic\"] == \"Dynamic\"]\n",
    "\n",
    "ds_static_cutoff = df_static[\"debugging_scores\"].mean()\n",
    "ds_dynamic_cutoff = df_dynamic[\"debugging_scores\"].mean()\n",
    "\n",
    "df_stud_static[\"debugging_perf\"] = df_stud_static[\"debugging_scores\"].apply(lambda x: \"L\" if x < ds_static_cutoff else \"H\")\n",
    "df_stud_dynamic[\"debugging_perf\"] = df_stud_dynamic[\"debugging_scores\"].apply(lambda x: \"L\" if x < ds_dynamic_cutoff else \"H\")"
   ]
  },
  {
   "cell_type": "code",
   "execution_count": 160,
   "metadata": {},
   "outputs": [],
   "source": [
    "stud_df = df_stud_static.append(df_stud_dynamic)"
   ]
  },
  {
   "cell_type": "code",
   "execution_count": 162,
   "metadata": {},
   "outputs": [],
   "source": [
    "temp_remove_pair = {'ADDU-DP02', 'ADDU-SP04'} \n",
    "unique_pairs = set(stud_df.index.str[:-1]) - temp_remove_pair\n",
    "pair_df = pd.DataFrame(index=unique_pairs, columns=cols_classes + cols_tests + ['school', 'static_or_dynamic', 'gender', 'debugging_perf_pair'])\n",
    "\n",
    "for pair in unique_pairs:\n",
    "    pair_df.loc[pair][cols_tests] = stud_df.loc[pair + 'A'].get(cols_tests).subtract(stud_df.loc[pair + 'B'].get(cols_tests)).abs()\n",
    "    stud_a_perf = stud_df.loc[pair+'A'].get(\"debugging_perf\")\n",
    "    stud_b_perf = stud_df.loc[pair+'B'].get(\"debugging_perf\")\n",
    "    if stud_a_perf == stud_b_perf:\n",
    "        if stud_a_perf == \"H\":\n",
    "            pair_df.loc[pair][\"debugging_perf_pair\"] = \"HH\"\n",
    "        else:\n",
    "            pair_df.loc[pair][\"debugging_perf_pair\"] = \"LL\"\n",
    "    else:\n",
    "        pair_df.loc[pair][\"debugging_perf_pair\"] = \"HL\"\n",
    "    pair_df.loc[pair][['school', 'static_or_dynamic', 'gender']] = stud_df.loc[pair + 'A'][['school', 'static_or_dynamic', 'gender']]\n",
    "pair_df[cols_tests] = pair_df[cols_tests].apply(pd.to_numeric, errors='coerce', axis=1)"
   ]
  },
  {
   "cell_type": "code",
   "execution_count": 170,
   "metadata": {},
   "outputs": [
    {
     "data": {
      "text/plain": [
       "<matplotlib.axes._subplots.AxesSubplot at 0x7f3ef549ab70>"
      ]
     },
     "execution_count": 170,
     "metadata": {},
     "output_type": "execute_result"
    },
    {
     "data": {
      "image/png": "[encoded data removed]",
      "text/plain": [
       "<Figure size 432x288 with 1 Axes>"
      ]
     },
     "metadata": {},
     "output_type": "display_data"
    }
   ],
   "source": [
    "sns.countplot(x=\"school\", hue=\"debugging_perf_pair\", data=pair_df)"
   ]
  },
  {
   "cell_type": "code",
   "execution_count": 172,
   "metadata": {},
   "outputs": [
    {
     "data": {
      "text/plain": [
       "<matplotlib.axes._subplots.AxesSubplot at 0x7f3ef5909908>"
      ]
     },
     "execution_count": 172,
     "metadata": {},
     "output_type": "execute_result"
    },
    {
     "data": {
      "image/png": "[encoded data removed]",
      "text/plain": [
       "<Figure size 432x288 with 1 Axes>"
      ]
     },
     "metadata": {},
     "output_type": "display_data"
    }
   ],
   "source": [
    "sns.boxplot(x=\"school\", y=\"debugging_scores\", hue=\"debugging_perf_pair\", data=pair_df)"
   ]
  },
  {
   "cell_type": "code",
   "execution_count": null,
   "metadata": {},
   "outputs": [],
   "source": []
  }
 ],
 "metadata": {
  "kernelspec": {
   "display_name": "Python 3",
   "language": "python",
   "name": "python3"
  },
  "language_info": {
   "codemirror_mode": {
    "name": "ipython",
    "version": 3
   },
   "file_extension": ".py",
   "mimetype": "text/x-python",
   "name": "python",
   "nbconvert_exporter": "python",
   "pygments_lexer": "ipython3",
   "version": "3.6.3"
  }
 },
 "nbformat": 4,
 "nbformat_minor": 2
}
