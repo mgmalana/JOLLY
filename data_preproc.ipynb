{
 "cells": [
  {
   "cell_type": "markdown",
   "metadata": {},
   "source": [
    "# JOLLY Preprocessing Scripts\n",
    "by MG Malana and Jerelyn Co"
   ]
  },
  {
   "cell_type": "markdown",
   "metadata": {},
   "source": [
    "General tasks:\n",
    "- [x] collate labeled files in one dataframe\n",
    "- [x] collate and preprocess (if necessary) test scores\n",
    "- [ ] provide basic quali and quanti analyses\n",
    "\n",
    "Subtasks:\n",
    "- [x] histogram of final vote classes (overall and per university)\n",
    "- [ ] box plot of test scores per university\n",
    "- [x] interrator score\n",
    "\n",
    "To check\n",
    "- dapat walang \"VOTE\" under final act\n",
    "- delete other columns"
   ]
  },
  {
   "cell_type": "code",
   "execution_count": 66,
   "metadata": {},
   "outputs": [
    {
     "name": "stdout",
     "output_type": "stream",
     "text": [
      "Populating the interactive namespace from numpy and matplotlib\n"
     ]
    }
   ],
   "source": [
    "# Importing packages\n",
    "import numpy as np\n",
    "import pandas as pds\n",
    "\n",
    "import matplotlib.pyplot as plt\n",
    "import seaborn as sns\n",
    "\n",
    "import glob\n",
    "%pylab inline\n",
    "sns.set_style(\"whitegrid\")"
   ]
  },
  {
   "cell_type": "code",
   "execution_count": 17,
   "metadata": {},
   "outputs": [],
   "source": [
    "data_dir = 'data/'\n",
    "data_raw_dir = data_dir +'raw/'\n",
    "data_proc_dir = data_dir +'proc/'\n",
    "\n",
    "data_raw_label_dir = data_raw_dir + 'label/'\n",
    "data_raw_score_dir = data_raw_dir + 'scores/'"
   ]
  },
  {
   "cell_type": "markdown",
   "metadata": {},
   "source": [
    "# Labelled Dataset\n",
    "\n",
    "Contains the chat logs between the pair programmer, translation to English language, votes of each voter, final vote for cases of conflict, and timestamp."
   ]
  },
  {
   "cell_type": "markdown",
   "metadata": {},
   "source": [
    "## Collation and preliminary preprocessing"
   ]
  },
  {
   "cell_type": "code",
   "execution_count": 18,
   "metadata": {},
   "outputs": [],
   "source": [
    "# merge all excels into 1 data frame\n",
    "label_df = pd.DataFrame()\n",
    "column_names = ['text', 'person', 'translation', 'a1', 'a2', 'match', 'final_act', 'timestamp', 'school', 'filename', 'student']\n",
    "column_name_change = {'TEXT': 'text', 'ORIGINAL TEXT/CONVO': 'text', 'Original text': 'text', 'PERSON': 'person',\n",
    "                      'TRANSLATION': 'translation', 'A1': 'a1',\n",
    "                      'A2': 'a2', 'Match': 'match', 'MATCH': 'match',\n",
    "                      'FINAL': 'final_act', 'Final Act': 'final_act', 'Timestamp': 'timestamp', 'Student': 'student'}"
   ]
  },
  {
   "cell_type": "code",
   "execution_count": 19,
   "metadata": {
    "scrolled": true
   },
   "outputs": [
    {
     "name": "stderr",
     "output_type": "stream",
     "text": [
      "/home/jerelyn/miniconda3/lib/python3.6/site-packages/pandas/core/frame.py:6211: FutureWarning: Sorting because non-concatenation axis is not aligned. A future version\n",
      "of pandas will change to not sort by default.\n",
      "\n",
      "To accept the future behavior, pass 'sort=False'.\n",
      "\n",
      "To retain the current behavior and silence the warning, pass 'sort=True'.\n",
      "\n",
      "  sort=sort)\n"
     ]
    },
    {
     "data": {
      "text/html": [
       "<div>\n",
       "<style scoped>\n",
       "    .dataframe tbody tr th:only-of-type {\n",
       "        vertical-align: middle;\n",
       "    }\n",
       "\n",
       "    .dataframe tbody tr th {\n",
       "        vertical-align: top;\n",
       "    }\n",
       "\n",
       "    .dataframe thead th {\n",
       "        text-align: right;\n",
       "    }\n",
       "</style>\n",
       "<table border=\"1\" class=\"dataframe\">\n",
       "  <thead>\n",
       "    <tr style=\"text-align: right;\">\n",
       "      <th></th>\n",
       "      <th>a1</th>\n",
       "      <th>a2</th>\n",
       "      <th>filename</th>\n",
       "      <th>final_act</th>\n",
       "      <th>match</th>\n",
       "      <th>person</th>\n",
       "      <th>school</th>\n",
       "      <th>student</th>\n",
       "      <th>text</th>\n",
       "      <th>timestamp</th>\n",
       "      <th>translation</th>\n",
       "    </tr>\n",
       "  </thead>\n",
       "  <tbody>\n",
       "    <tr>\n",
       "      <th>ADMU-SPx1A:10:45:48</th>\n",
       "      <td>InfStm</td>\n",
       "      <td>InfStm</td>\n",
       "      <td>ADMU-SPx1A-SPx1B.xlsx</td>\n",
       "      <td>InfStm</td>\n",
       "      <td>True</td>\n",
       "      <td>A</td>\n",
       "      <td>ADMU</td>\n",
       "      <td>ADMU-SPx1A</td>\n",
       "      <td>test</td>\n",
       "      <td>10:45:48</td>\n",
       "      <td>test</td>\n",
       "    </tr>\n",
       "    <tr>\n",
       "      <th>ADMU-SPx1A:11:46:09</th>\n",
       "      <td>InfNon</td>\n",
       "      <td>InfNon</td>\n",
       "      <td>ADMU-SPx1A-SPx1B.xlsx</td>\n",
       "      <td>InfNon</td>\n",
       "      <td>True</td>\n",
       "      <td>A</td>\n",
       "      <td>ADMU</td>\n",
       "      <td>ADMU-SPx1A</td>\n",
       "      <td>.</td>\n",
       "      <td>11:46:09</td>\n",
       "      <td>.</td>\n",
       "    </tr>\n",
       "    <tr>\n",
       "      <th>ADMU-SPx1B:11:46:51</th>\n",
       "      <td>InfNon</td>\n",
       "      <td>InfNon</td>\n",
       "      <td>ADMU-SPx1A-SPx1B.xlsx</td>\n",
       "      <td>InfNon</td>\n",
       "      <td>True</td>\n",
       "      <td>B</td>\n",
       "      <td>ADMU</td>\n",
       "      <td>ADMU-SPx1B</td>\n",
       "      <td>(H)</td>\n",
       "      <td>11:46:51</td>\n",
       "      <td>(H)</td>\n",
       "    </tr>\n",
       "    <tr>\n",
       "      <th>ADMU-SPx1A:11:47:01</th>\n",
       "      <td>InfNon</td>\n",
       "      <td>InfNon</td>\n",
       "      <td>ADMU-SPx1A-SPx1B.xlsx</td>\n",
       "      <td>InfNon</td>\n",
       "      <td>True</td>\n",
       "      <td>A</td>\n",
       "      <td>ADMU</td>\n",
       "      <td>ADMU-SPx1A</td>\n",
       "      <td>8-|</td>\n",
       "      <td>11:47:01</td>\n",
       "      <td>8-|</td>\n",
       "    </tr>\n",
       "    <tr>\n",
       "      <th>ADMU-SPx1A:11:49:13</th>\n",
       "      <td>InfSol</td>\n",
       "      <td>InfSol</td>\n",
       "      <td>ADMU-SPx1A-SPx1B.xlsx</td>\n",
       "      <td>InfSol</td>\n",
       "      <td>True</td>\n",
       "      <td>A</td>\n",
       "      <td>ADMU</td>\n",
       "      <td>ADMU-SPx1A</td>\n",
       "      <td>reverse is spelled wrong</td>\n",
       "      <td>11:49:13</td>\n",
       "      <td>reverse is spelled wrong</td>\n",
       "    </tr>\n",
       "  </tbody>\n",
       "</table>\n",
       "</div>"
      ],
      "text/plain": [
       "                         a1      a2               filename final_act  match  \\\n",
       "ADMU-SPx1A:10:45:48  InfStm  InfStm  ADMU-SPx1A-SPx1B.xlsx    InfStm   True   \n",
       "ADMU-SPx1A:11:46:09  InfNon  InfNon  ADMU-SPx1A-SPx1B.xlsx    InfNon   True   \n",
       "ADMU-SPx1B:11:46:51  InfNon  InfNon  ADMU-SPx1A-SPx1B.xlsx    InfNon   True   \n",
       "ADMU-SPx1A:11:47:01  InfNon  InfNon  ADMU-SPx1A-SPx1B.xlsx    InfNon   True   \n",
       "ADMU-SPx1A:11:49:13  InfSol  InfSol  ADMU-SPx1A-SPx1B.xlsx    InfSol   True   \n",
       "\n",
       "                    person school     student                      text  \\\n",
       "ADMU-SPx1A:10:45:48      A   ADMU  ADMU-SPx1A                      test   \n",
       "ADMU-SPx1A:11:46:09      A   ADMU  ADMU-SPx1A                         .   \n",
       "ADMU-SPx1B:11:46:51      B   ADMU  ADMU-SPx1B                       (H)   \n",
       "ADMU-SPx1A:11:47:01      A   ADMU  ADMU-SPx1A                       8-|   \n",
       "ADMU-SPx1A:11:49:13      A   ADMU  ADMU-SPx1A  reverse is spelled wrong   \n",
       "\n",
       "                    timestamp               translation  \n",
       "ADMU-SPx1A:10:45:48  10:45:48                      test  \n",
       "ADMU-SPx1A:11:46:09  11:46:09                         .  \n",
       "ADMU-SPx1B:11:46:51  11:46:51                       (H)  \n",
       "ADMU-SPx1A:11:47:01  11:47:01                       8-|  \n",
       "ADMU-SPx1A:11:49:13  11:49:13  reverse is spelled wrong  "
      ]
     },
     "execution_count": 19,
     "metadata": {},
     "output_type": "execute_result"
    }
   ],
   "source": [
    "# iterate folders\n",
    "for folder in glob.iglob(data_raw_label_dir + '*/'):\n",
    "    for filename in glob.iglob(folder +'*.xlsx'):\n",
    "        school_name = folder.replace(data_raw_label_dir, '').replace('/', '')\n",
    "        filename = filename.replace(folder, '')\n",
    "        temp_df = pd.read_excel(data_raw_label_dir + school_name + '/' + filename)\n",
    "        temp_df = temp_df.rename(columns= column_name_change)\n",
    "\n",
    "        # add additional columns\n",
    "        temp_df['school'] = school_name\n",
    "        temp_df['filename'] = filename\n",
    "        \n",
    "        # setting timestamp and student\n",
    "        if not temp_df.index.is_integer():\n",
    "            index_split = list(temp_df.index.str.split(':', 1))           \n",
    "            temp_df['timestamp'] = np.array(index_split)[:,1]\n",
    "            temp_df['student'] = np.array(index_split)[:,0]\n",
    "        else: \n",
    "            temp_df.index = temp_df['student'] + \":\" + temp_df['timestamp'].astype(str)\n",
    "\n",
    "        # remove extra columns\n",
    "        temp_df = temp_df.drop(set(temp_df.columns) - set(column_names), axis=1)\n",
    "#          temp_df = temp_df.loc[:, ~temp_df.columns.str.contains('^Unnamed')] # remove unnamed columns     \n",
    "        \n",
    "        # error checking on data\n",
    "        if not set(column_names).issubset(temp_df.columns):                # check if incomplete columns\n",
    "            raise Exception('Column names in ' + filename + ' are incomplete')\n",
    "        if not set(temp_df.columns).issubset(column_names):                # check if has extra columns\n",
    "            raise Exception('There are extra column names in ' + filename)\n",
    "        if temp_df['final_act'].isnull().any():                            # check if final act has null\n",
    "            raise Exception('Null final act in ' + filename)\n",
    "        if temp_df['final_act'].str.match('VOTE').any():                   # check if final act has 'VOTE' value\n",
    "            raise Exception('Invalid final act in ' + filename)\n",
    "    \n",
    "        label_df = label_df.append(temp_df)\n",
    "\n",
    "label_df.head()"
   ]
  },
  {
   "cell_type": "code",
   "execution_count": 20,
   "metadata": {},
   "outputs": [],
   "source": [
    "label_df.index.name='index'\n",
    "label_df.to_csv(data_proc_dir + 'labelled_data.csv')"
   ]
  },
  {
   "cell_type": "markdown",
   "metadata": {},
   "source": [
    "## Preliminary EDA"
   ]
  },
  {
   "cell_type": "code",
   "execution_count": 22,
   "metadata": {},
   "outputs": [],
   "source": [
    "# Loading dataset\n",
    "label_df = pd.read_csv(data_proc_dir + 'labelled_data.csv', index_col='index')\n",
    "\n",
    "# Selecting three schools for now: ADMU, ADDU, ADNU\n",
    "label_df = label_df[label_df[\"school\"].isin([\"ADMU\", \"ADNU\", \"ADDU\"])]"
   ]
  },
  {
   "cell_type": "code",
   "execution_count": 67,
   "metadata": {},
   "outputs": [
    {
     "name": "stdout",
     "output_type": "stream",
     "text": [
      "==== Per School count ====\n",
      "ADMU    2752\n",
      "ADNU    2111\n",
      "ADDU    1960\n",
      "Name: school, dtype: int64\n",
      "==== Total number of lines ====\n",
      "6823\n"
     ]
    },
    {
     "data": {
      "image/png": "[encoded data removed]",
      "text/plain": [
       "<Figure size 576x288 with 1 Axes>"
      ]
     },
     "metadata": {},
     "output_type": "display_data"
    }
   ],
   "source": [
    "# Showing value counts (number of lines) per school\n",
    "plt.figure(figsize=(8,4))\n",
    "label_df[\"school\"].value_counts().plot(kind=\"bar\")\n",
    "\n",
    "# Showing the numbers\n",
    "\n",
    "print(\"==== Per School count ====\")\n",
    "print(label_df[\"school\"].value_counts())\n",
    "print(\"==== Total number of lines ====\")\n",
    "total_size = len(label_df)\n",
    "print(total_size)"
   ]
  },
  {
   "cell_type": "code",
   "execution_count": 68,
   "metadata": {},
   "outputs": [
    {
     "data": {
      "text/plain": [
       "<matplotlib.axes._subplots.AxesSubplot at 0x7f5d544d6ef0>"
      ]
     },
     "execution_count": 68,
     "metadata": {},
     "output_type": "execute_result"
    },
    {
     "data": {
      "image/png": "[encoded data removed]",
      "text/plain": [
       "<Figure size 1152x864 with 1 Axes>"
      ]
     },
     "metadata": {},
     "output_type": "display_data"
    }
   ],
   "source": [
    "# Showing breakdown of votes per class\n",
    "# TODO need normalization\n",
    "plt.figure(figsize=(16,12))\n",
    "sns.countplot(y=\"final_act\", hue=\"school\", data=label_df)"
   ]
  },
  {
   "cell_type": "code",
   "execution_count": 70,
   "metadata": {},
   "outputs": [
    {
     "data": {
      "text/plain": [
       "<matplotlib.axes._subplots.AxesSubplot at 0x7f5d53b943c8>"
      ]
     },
     "execution_count": 70,
     "metadata": {},
     "output_type": "execute_result"
    },
    {
     "data": {
      "image/png": "[encoded data removed]",
      "text/plain": [
       "<Figure size 1152x864 with 1 Axes>"
      ]
     },
     "metadata": {},
     "output_type": "display_data"
    }
   ],
   "source": [
    "plt.figure(figsize=(16,12))\n",
    "sns.countplot(y=\"final_act\", data=label_df)"
   ]
  },
  {
   "cell_type": "code",
   "execution_count": 71,
   "metadata": {},
   "outputs": [
    {
     "name": "stdout",
     "output_type": "stream",
     "text": [
      "==== Rater scores ====\n",
      "A1: 95.47120035175143%\n",
      "A2: 89.94577165469735%\n"
     ]
    }
   ],
   "source": [
    "# Rater Scores\n",
    "print(\"==== Rater scores ====\")\n",
    "a1_rating = print(\"A1: {}%\".format(len(label_df[label_df['a1'] == label_df['final_act']]) * 100/total_size))\n",
    "a2_rating = print(\"A2: {}%\".format(len(label_df[label_df['a2'] == label_df['final_act']]) * 100/total_size))"
   ]
  },
  {
   "cell_type": "markdown",
   "metadata": {},
   "source": [
    "# Scores Dataset"
   ]
  },
  {
   "cell_type": "code",
   "execution_count": 72,
   "metadata": {
    "scrolled": true
   },
   "outputs": [
    {
     "data": {
      "text/html": [
       "<div>\n",
       "<style scoped>\n",
       "    .dataframe tbody tr th:only-of-type {\n",
       "        vertical-align: middle;\n",
       "    }\n",
       "\n",
       "    .dataframe tbody tr th {\n",
       "        vertical-align: top;\n",
       "    }\n",
       "\n",
       "    .dataframe thead th {\n",
       "        text-align: right;\n",
       "    }\n",
       "</style>\n",
       "<table border=\"1\" class=\"dataframe\">\n",
       "  <thead>\n",
       "    <tr style=\"text-align: right;\">\n",
       "      <th></th>\n",
       "      <th>student</th>\n",
       "      <th>school</th>\n",
       "      <th>static_or_dynamic</th>\n",
       "      <th>individual_or_pair</th>\n",
       "      <th>gender</th>\n",
       "      <th>pre_test_score</th>\n",
       "      <th>self_efficacy</th>\n",
       "      <th>debugging_scores</th>\n",
       "    </tr>\n",
       "  </thead>\n",
       "  <tbody>\n",
       "    <tr>\n",
       "      <th>0</th>\n",
       "      <td>ADDU-DP02A</td>\n",
       "      <td>ADDU</td>\n",
       "      <td>Dynamic</td>\n",
       "      <td>Pair</td>\n",
       "      <td>F</td>\n",
       "      <td>6.0</td>\n",
       "      <td>4.88</td>\n",
       "      <td>13.0</td>\n",
       "    </tr>\n",
       "    <tr>\n",
       "      <th>1</th>\n",
       "      <td>ADDU-DP02B</td>\n",
       "      <td>ADDU</td>\n",
       "      <td>Dynamic</td>\n",
       "      <td>Pair</td>\n",
       "      <td>F</td>\n",
       "      <td>4.0</td>\n",
       "      <td>4.32</td>\n",
       "      <td>13.0</td>\n",
       "    </tr>\n",
       "    <tr>\n",
       "      <th>2</th>\n",
       "      <td>ADDU-DP03B</td>\n",
       "      <td>ADDU</td>\n",
       "      <td>Dynamic</td>\n",
       "      <td>Pair</td>\n",
       "      <td>F</td>\n",
       "      <td>4.0</td>\n",
       "      <td>3.53</td>\n",
       "      <td>10.0</td>\n",
       "    </tr>\n",
       "    <tr>\n",
       "      <th>3</th>\n",
       "      <td>ADDU-DP07B</td>\n",
       "      <td>ADDU</td>\n",
       "      <td>Dynamic</td>\n",
       "      <td>Pair</td>\n",
       "      <td>F</td>\n",
       "      <td>7.0</td>\n",
       "      <td>3.74</td>\n",
       "      <td>18.0</td>\n",
       "    </tr>\n",
       "    <tr>\n",
       "      <th>4</th>\n",
       "      <td>ADDU-SP02A</td>\n",
       "      <td>ADDU</td>\n",
       "      <td>Static</td>\n",
       "      <td>Pair</td>\n",
       "      <td>F</td>\n",
       "      <td>7.0</td>\n",
       "      <td>5.69</td>\n",
       "      <td>14.5</td>\n",
       "    </tr>\n",
       "  </tbody>\n",
       "</table>\n",
       "</div>"
      ],
      "text/plain": [
       "      student school static_or_dynamic individual_or_pair gender  \\\n",
       "0  ADDU-DP02A   ADDU           Dynamic               Pair      F   \n",
       "1  ADDU-DP02B   ADDU           Dynamic               Pair      F   \n",
       "2  ADDU-DP03B   ADDU           Dynamic               Pair      F   \n",
       "3  ADDU-DP07B   ADDU           Dynamic               Pair      F   \n",
       "4  ADDU-SP02A   ADDU          Static                 Pair      F   \n",
       "\n",
       "   pre_test_score  self_efficacy  debugging_scores  \n",
       "0             6.0           4.88              13.0  \n",
       "1             4.0           4.32              13.0  \n",
       "2             4.0           3.53              10.0  \n",
       "3             7.0           3.74              18.0  \n",
       "4             7.0           5.69              14.5  "
      ]
     },
     "execution_count": 72,
     "metadata": {},
     "output_type": "execute_result"
    }
   ],
   "source": [
    "# read and clean dataset\n",
    "scores_df = pd.read_excel(data_raw_score_dir + 'all scores.xlsx')\n",
    "scores_df = scores_df.dropna()\n",
    "scores_df = scores_df.rename(columns= {'Student ID': 'student', 'School': 'school', 'Static / Dynamic': 'static_or_dynamic',\n",
    "                                      'Individual / Pair': 'individual_or_pair', 'Gender': 'gender',\n",
    "                                      'Pre-test score': 'pre_test_score', 'Self-efficacy': 'self_efficacy',\n",
    "                                      'Debugging scores': 'debugging_scores'})\n",
    "\n",
    "scores_df.head()"
   ]
  },
  {
   "cell_type": "code",
   "execution_count": 73,
   "metadata": {},
   "outputs": [],
   "source": [
    "scores_df.to_csv(data_proc_dir + 'scores.csv')"
   ]
  },
  {
   "cell_type": "markdown",
   "metadata": {},
   "source": [
    "## Preliminary EDA"
   ]
  },
  {
   "cell_type": "code",
   "execution_count": 83,
   "metadata": {},
   "outputs": [
    {
     "data": {
      "text/plain": [
       "<matplotlib.axes._subplots.AxesSubplot at 0x7f5d530a2320>"
      ]
     },
     "execution_count": 83,
     "metadata": {},
     "output_type": "execute_result"
    },
    {
     "data": {
      "image/png": "[encoded data removed]",
      "text/plain": [
       "<Figure size 1008x720 with 1 Axes>"
      ]
     },
     "metadata": {},
     "output_type": "display_data"
    }
   ],
   "source": [
    "plt.figure(figsize=(14,10))\n",
    "sns.boxplot(x=\"school\", hue=\"static_or_dynamic\", y=\"pre_test_score\", data=scores_df)"
   ]
  },
  {
   "cell_type": "code",
   "execution_count": null,
   "metadata": {},
   "outputs": [],
   "source": []
  }
 ],
 "metadata": {
  "kernelspec": {
   "display_name": "Python 3",
   "language": "python",
   "name": "python3"
  },
  "language_info": {
   "codemirror_mode": {
    "name": "ipython",
    "version": 3
   },
   "file_extension": ".py",
   "mimetype": "text/x-python",
   "name": "python",
   "nbconvert_exporter": "python",
   "pygments_lexer": "ipython3",
   "version": "3.6.3"
  }
 },
 "nbformat": 4,
 "nbformat_minor": 2
}
