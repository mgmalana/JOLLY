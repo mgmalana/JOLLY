{
 "cells": [
  {
   "cell_type": "markdown",
   "metadata": {},
   "source": [
    "# JOLLY Preprocessing Scripts\n",
    "by MG Malana and Jerelyn Co"
   ]
  },
  {
   "cell_type": "markdown",
   "metadata": {},
   "source": [
    "### General tasks:\n",
    "- [x] collate labeled files in one dataframe\n",
    "- [x] collate and preprocess (if necessary) test scores\n",
    "- [ ] provide basic quali and quanti analyses\n",
    "\n",
    "### Subtasks:\n",
    "- [x] histogram of final vote classes (overall and per university)\n",
    "- [x] normalized histogram of final vote classes (per university) \n",
    "- [x] box plot of test scores per university\n",
    "- [x] interrator score\n",
    "\n",
    "### To check\n",
    "- dapat walang \"VOTE\" under final act\n",
    "- delete other columns\n",
    "\n",
    "### Notes:\n",
    "Possible errors on the assigned student id in the following files:\n",
    "- ADDU-DP05A - DP05B.xlsx\n",
    "- ADDU-DP06A - DP06B.xlsx\n",
    "\n",
    "Missing scores for the following students:\n",
    "- ADNU-DP06A\n",
    "- ADNU-DP06B\n",
    "- ADNU-DP05A\n",
    "- ADNU-DP05B\n",
    "- ADMU-DP04A\n",
    "- ADMU-DP04B"
   ]
  },
  {
   "cell_type": "code",
   "execution_count": 1,
   "metadata": {},
   "outputs": [
    {
     "name": "stdout",
     "output_type": "stream",
     "text": [
      "Populating the interactive namespace from numpy and matplotlib\n"
     ]
    }
   ],
   "source": [
    "# Importing packages\n",
    "import numpy as np\n",
    "import pandas as pd\n",
    "\n",
    "import matplotlib.pyplot as plt\n",
    "import seaborn as sns\n",
    "\n",
    "import glob\n",
    "%pylab inline\n",
    "sns.set_style(\"whitegrid\")"
   ]
  },
  {
   "cell_type": "code",
   "execution_count": 2,
   "metadata": {},
   "outputs": [],
   "source": [
    "data_dir = 'data/'\n",
    "data_raw_dir = data_dir +'raw/'\n",
    "data_proc_dir = data_dir +'proc/'\n",
    "\n",
    "data_raw_label_dir = data_raw_dir + 'label/'\n",
    "data_raw_score_dir = data_raw_dir + 'scores/'"
   ]
  },
  {
   "cell_type": "markdown",
   "metadata": {},
   "source": [
    "# Labelled Dataset\n",
    "\n",
    "Contains the chat logs between the pair programmer, translation to English language, votes of each voter, final vote for cases of conflict, and timestamp."
   ]
  },
  {
   "cell_type": "markdown",
   "metadata": {},
   "source": [
    "## Collation and preliminary preprocessing"
   ]
  },
  {
   "cell_type": "code",
   "execution_count": 3,
   "metadata": {},
   "outputs": [],
   "source": [
    "# merge all excels into 1 data frame\n",
    "label_df = pd.DataFrame()\n",
    "column_names = ['text', 'person', 'translation', 'a1', 'a2', 'match', 'final_act', 'timestamp', 'school', 'filename', 'student']\n",
    "column_name_change = {'TEXT': 'text', 'ORIGINAL TEXT/CONVO': 'text', 'Original text': 'text', 'PERSON': 'person',\n",
    "                      'TRANSLATION': 'translation', 'A1': 'a1',\n",
    "                      'A2': 'a2', 'Match': 'match', 'MATCH': 'match',\n",
    "                      'FINAL': 'final_act', 'Final Act': 'final_act', 'Timestamp': 'timestamp', 'Student': 'student'}"
   ]
  },
  {
   "cell_type": "code",
   "execution_count": 4,
   "metadata": {
    "scrolled": true
   },
   "outputs": [
    {
     "data": {
      "text/html": [
       "<div>\n",
       "<style scoped>\n",
       "    .dataframe tbody tr th:only-of-type {\n",
       "        vertical-align: middle;\n",
       "    }\n",
       "\n",
       "    .dataframe tbody tr th {\n",
       "        vertical-align: top;\n",
       "    }\n",
       "\n",
       "    .dataframe thead th {\n",
       "        text-align: right;\n",
       "    }\n",
       "</style>\n",
       "<table border=\"1\" class=\"dataframe\">\n",
       "  <thead>\n",
       "    <tr style=\"text-align: right;\">\n",
       "      <th></th>\n",
       "      <th>a1</th>\n",
       "      <th>a2</th>\n",
       "      <th>filename</th>\n",
       "      <th>final_act</th>\n",
       "      <th>match</th>\n",
       "      <th>person</th>\n",
       "      <th>school</th>\n",
       "      <th>student</th>\n",
       "      <th>text</th>\n",
       "      <th>timestamp</th>\n",
       "      <th>translation</th>\n",
       "    </tr>\n",
       "  </thead>\n",
       "  <tbody>\n",
       "    <tr>\n",
       "      <th>UC-DP06B:09:22:13</th>\n",
       "      <td>InfStm</td>\n",
       "      <td>InfStm</td>\n",
       "      <td>UC-DP06A-DP06B.xlsx</td>\n",
       "      <td>InfStm</td>\n",
       "      <td>True</td>\n",
       "      <td>B</td>\n",
       "      <td>UC</td>\n",
       "      <td>UC-DP06B</td>\n",
       "      <td>tesat</td>\n",
       "      <td>09:22:13</td>\n",
       "      <td>test</td>\n",
       "    </tr>\n",
       "    <tr>\n",
       "      <th>UC-DP06A:09:22:18</th>\n",
       "      <td>InfStm</td>\n",
       "      <td>InfStm</td>\n",
       "      <td>UC-DP06A-DP06B.xlsx</td>\n",
       "      <td>InfStm</td>\n",
       "      <td>True</td>\n",
       "      <td>A</td>\n",
       "      <td>UC</td>\n",
       "      <td>UC-DP06A</td>\n",
       "      <td>test</td>\n",
       "      <td>09:22:18</td>\n",
       "      <td>test</td>\n",
       "    </tr>\n",
       "    <tr>\n",
       "      <th>UC-DP06B:09:23:01</th>\n",
       "      <td>InfStm</td>\n",
       "      <td>InfStm</td>\n",
       "      <td>UC-DP06A-DP06B.xlsx</td>\n",
       "      <td>InfStm</td>\n",
       "      <td>True</td>\n",
       "      <td>B</td>\n",
       "      <td>UC</td>\n",
       "      <td>UC-DP06B</td>\n",
       "      <td>game</td>\n",
       "      <td>09:23:01</td>\n",
       "      <td>game</td>\n",
       "    </tr>\n",
       "    <tr>\n",
       "      <th>UC-DP06A:09:23:05</th>\n",
       "      <td>InfNon</td>\n",
       "      <td>InfNon</td>\n",
       "      <td>UC-DP06A-DP06B.xlsx</td>\n",
       "      <td>InfNon</td>\n",
       "      <td>True</td>\n",
       "      <td>A</td>\n",
       "      <td>UC</td>\n",
       "      <td>UC-DP06A</td>\n",
       "      <td>g</td>\n",
       "      <td>09:23:05</td>\n",
       "      <td>g</td>\n",
       "    </tr>\n",
       "    <tr>\n",
       "      <th>UC-DP06A:09:23:07</th>\n",
       "      <td>InfNon</td>\n",
       "      <td>InfNon</td>\n",
       "      <td>UC-DP06A-DP06B.xlsx</td>\n",
       "      <td>InfNon</td>\n",
       "      <td>True</td>\n",
       "      <td>A</td>\n",
       "      <td>UC</td>\n",
       "      <td>UC-DP06A</td>\n",
       "      <td>g</td>\n",
       "      <td>09:23:07</td>\n",
       "      <td>g</td>\n",
       "    </tr>\n",
       "  </tbody>\n",
       "</table>\n",
       "</div>"
      ],
      "text/plain": [
       "                       a1      a2             filename final_act  match  \\\n",
       "UC-DP06B:09:22:13  InfStm  InfStm  UC-DP06A-DP06B.xlsx    InfStm   True   \n",
       "UC-DP06A:09:22:18  InfStm  InfStm  UC-DP06A-DP06B.xlsx    InfStm   True   \n",
       "UC-DP06B:09:23:01  InfStm  InfStm  UC-DP06A-DP06B.xlsx    InfStm   True   \n",
       "UC-DP06A:09:23:05  InfNon  InfNon  UC-DP06A-DP06B.xlsx    InfNon   True   \n",
       "UC-DP06A:09:23:07  InfNon  InfNon  UC-DP06A-DP06B.xlsx    InfNon   True   \n",
       "\n",
       "                  person school   student   text timestamp translation  \n",
       "UC-DP06B:09:22:13      B     UC  UC-DP06B  tesat  09:22:13        test  \n",
       "UC-DP06A:09:22:18      A     UC  UC-DP06A   test  09:22:18        test  \n",
       "UC-DP06B:09:23:01      B     UC  UC-DP06B   game  09:23:01        game  \n",
       "UC-DP06A:09:23:05      A     UC  UC-DP06A      g  09:23:05           g  \n",
       "UC-DP06A:09:23:07      A     UC  UC-DP06A      g  09:23:07           g  "
      ]
     },
     "execution_count": 4,
     "metadata": {},
     "output_type": "execute_result"
    }
   ],
   "source": [
    "# iterate folders\n",
    "for folder in glob.iglob(data_raw_label_dir + '*/'):\n",
    "    for filename in glob.iglob(folder +'*.xlsx'):\n",
    "        school_name = folder.replace(data_raw_label_dir, '').replace('/', '')\n",
    "        filename = filename.replace(folder, '')\n",
    "        temp_df = pd.read_excel(data_raw_label_dir + school_name + '/' + filename)\n",
    "        temp_df = temp_df.rename(columns= column_name_change)\n",
    "\n",
    "        # add additional columns\n",
    "        temp_df['school'] = school_name\n",
    "        temp_df['filename'] = filename\n",
    "        \n",
    "        # setting timestamp and student\n",
    "        if not temp_df.index.is_integer():\n",
    "            index_split = list(temp_df.index.str.split(':', 1))           \n",
    "            temp_df['timestamp'] = np.array(index_split)[:,1]\n",
    "            temp_df['student'] = np.array(index_split)[:,0]\n",
    "            # convert to military time\n",
    "            temp_df['timestamp'] = pd.to_datetime(temp_df['timestamp']).dt.strftime('%H:%M:%S')\n",
    "        else: \n",
    "            temp_df.index = temp_df['student'] + \":\" + temp_df['timestamp'].astype(str)\n",
    "\n",
    "        # filling na values in timestamp and student. get last valid observation\n",
    "        temp_df['student'] = temp_df['student'].fillna(method=\"ffill\")\n",
    "        temp_df['timestamp'] = temp_df['timestamp'].fillna(method=\"ffill\")\n",
    "\n",
    "        # remove extra columns\n",
    "        temp_df = temp_df.drop(set(temp_df.columns) - set(column_names), axis=1)\n",
    "#          temp_df = temp_df.loc[:, ~temp_df.columns.str.contains('^Unnamed')] # remove unnamed columns     \n",
    "        \n",
    "        # error checking on data\n",
    "        if not set(column_names).issubset(temp_df.columns):                # check if incomplete columns\n",
    "            raise Exception('Column names in ' + filename + ' are incomplete')\n",
    "        if not set(temp_df.columns).issubset(column_names):                # check if has extra columns\n",
    "            raise Exception('There are extra column names in ' + filename)\n",
    "        if temp_df['final_act'].isnull().any():                            # check if final act has null\n",
    "            raise Exception('Null final act in ' + filename)\n",
    "        if temp_df['final_act'].str.match('VOTE').any():                   # check if final act has 'VOTE' value\n",
    "            raise Exception('Invalid final act in ' + filename)\n",
    "        \n",
    "        label_df = label_df.append(temp_df)\n",
    "\n",
    "label_df.head()"
   ]
  },
  {
   "cell_type": "code",
   "execution_count": 5,
   "metadata": {},
   "outputs": [],
   "source": [
    "label_df.index.name='index'\n",
    "label_df.to_csv(data_proc_dir + 'labelled_data.csv')"
   ]
  },
  {
   "cell_type": "markdown",
   "metadata": {},
   "source": [
    "## Preliminary EDA"
   ]
  },
  {
   "cell_type": "code",
   "execution_count": 6,
   "metadata": {},
   "outputs": [],
   "source": [
    "# Loading dataset\n",
    "label_df = pd.read_csv(data_proc_dir + 'labelled_data.csv', index_col='index')\n",
    "\n",
    "# Selecting three schools for now: ADMU, ADDU, ADNU\n",
    "label_df = label_df[label_df[\"school\"].isin([\"ADMU\", \"ADNU\", \"ADDU\", \"UC\"])]"
   ]
  },
  {
   "cell_type": "code",
   "execution_count": 7,
   "metadata": {},
   "outputs": [
    {
     "name": "stdout",
     "output_type": "stream",
     "text": [
      "==== Per School count ====\n",
      "ADMU    2752\n",
      "ADNU    2303\n",
      "ADDU    1960\n",
      "UC      1213\n",
      "Name: school, dtype: int64\n",
      "==== Total number of lines ====\n",
      "8228\n"
     ]
    },
    {
     "data": {
      "image/png": "[encoded data removed]",
      "text/plain": [
       "<matplotlib.figure.Figure at 0x1a166e2cc0>"
      ]
     },
     "metadata": {},
     "output_type": "display_data"
    }
   ],
   "source": [
    "# Showing value counts (number of lines) per school\n",
    "plt.figure(figsize=(8,4))\n",
    "label_df[\"school\"].value_counts().plot(kind=\"bar\")\n",
    "\n",
    "# Showing the numbers\n",
    "\n",
    "print(\"==== Per School count ====\")\n",
    "print(label_df[\"school\"].value_counts())\n",
    "print(\"==== Total number of lines ====\")\n",
    "total_size = len(label_df)\n",
    "print(total_size)"
   ]
  },
  {
   "cell_type": "code",
   "execution_count": 8,
   "metadata": {
    "scrolled": true
   },
   "outputs": [
    {
     "data": {
      "text/plain": [
       "<matplotlib.axes._subplots.AxesSubplot at 0x1a168a5f60>"
      ]
     },
     "execution_count": 8,
     "metadata": {},
     "output_type": "execute_result"
    },
    {
     "data": {
      "image/png": "[encoded data removed]",
      "text/plain": [
       "<matplotlib.figure.Figure at 0x10ff3a978>"
      ]
     },
     "metadata": {},
     "output_type": "display_data"
    }
   ],
   "source": [
    "# Showing breakdown of votes per class\n",
    "plt.figure(figsize=(16,12))\n",
    "sns.countplot(y=\"final_act\", hue=\"school\", data=label_df)"
   ]
  },
  {
   "cell_type": "code",
   "execution_count": 9,
   "metadata": {},
   "outputs": [
    {
     "data": {
      "text/plain": [
       "<matplotlib.axes._subplots.AxesSubplot at 0x1a16571208>"
      ]
     },
     "execution_count": 9,
     "metadata": {},
     "output_type": "execute_result"
    },
    {
     "data": {
      "image/png": "[encoded data removed]",
      "text/plain": [
       "<matplotlib.figure.Figure at 0x1a165e6828>"
      ]
     },
     "metadata": {},
     "output_type": "display_data"
    }
   ],
   "source": [
    "# Showing normalized breakdown of votes per class\n",
    "label_norm_df = label_df.groupby(['school'])['final_act'].value_counts(normalize=True).reset_index(name='counts')\n",
    "\n",
    "plt.figure(figsize=(16,12))\n",
    "sns.barplot(x=\"counts\", y=\"final_act\", hue=\"school\", data=label_norm_df)"
   ]
  },
  {
   "cell_type": "code",
   "execution_count": 10,
   "metadata": {},
   "outputs": [
    {
     "data": {
      "text/plain": [
       "<matplotlib.axes._subplots.AxesSubplot at 0x1a165f7c88>"
      ]
     },
     "execution_count": 10,
     "metadata": {},
     "output_type": "execute_result"
    },
    {
     "data": {
      "image/png": "[encoded data removed]",
      "text/plain": [
       "<matplotlib.figure.Figure at 0x1a165b5a58>"
      ]
     },
     "metadata": {},
     "output_type": "display_data"
    }
   ],
   "source": [
    "plt.figure(figsize=(16,12))\n",
    "sns.countplot(y=\"final_act\", data=label_df, order = label_df['final_act'].value_counts().index)"
   ]
  },
  {
   "cell_type": "code",
   "execution_count": 11,
   "metadata": {},
   "outputs": [
    {
     "name": "stdout",
     "output_type": "stream",
     "text": [
      "==== Rater scores ====\n",
      "A1: 95.1507049100632%\n",
      "A2: 90.45940690325718%\n"
     ]
    }
   ],
   "source": [
    "# Rater Scores\n",
    "print(\"==== Rater scores ====\")\n",
    "a1_rating = print(\"A1: {}%\".format(len(label_df[label_df['a1'] == label_df['final_act']]) * 100/total_size))\n",
    "a2_rating = print(\"A2: {}%\".format(len(label_df[label_df['a2'] == label_df['final_act']]) * 100/total_size))"
   ]
  },
  {
   "cell_type": "markdown",
   "metadata": {},
   "source": [
    "# Scores Dataset"
   ]
  },
  {
   "cell_type": "code",
   "execution_count": 12,
   "metadata": {
    "scrolled": true
   },
   "outputs": [
    {
     "data": {
      "text/html": [
       "<div>\n",
       "<style scoped>\n",
       "    .dataframe tbody tr th:only-of-type {\n",
       "        vertical-align: middle;\n",
       "    }\n",
       "\n",
       "    .dataframe tbody tr th {\n",
       "        vertical-align: top;\n",
       "    }\n",
       "\n",
       "    .dataframe thead th {\n",
       "        text-align: right;\n",
       "    }\n",
       "</style>\n",
       "<table border=\"1\" class=\"dataframe\">\n",
       "  <thead>\n",
       "    <tr style=\"text-align: right;\">\n",
       "      <th></th>\n",
       "      <th>student</th>\n",
       "      <th>school</th>\n",
       "      <th>static_or_dynamic</th>\n",
       "      <th>individual_or_pair</th>\n",
       "      <th>gender</th>\n",
       "      <th>pre_test_score</th>\n",
       "      <th>self_efficacy</th>\n",
       "      <th>debugging_scores</th>\n",
       "    </tr>\n",
       "  </thead>\n",
       "  <tbody>\n",
       "    <tr>\n",
       "      <th>0</th>\n",
       "      <td>ADDU-DP02A</td>\n",
       "      <td>ADDU</td>\n",
       "      <td>Dynamic</td>\n",
       "      <td>Pair</td>\n",
       "      <td>F</td>\n",
       "      <td>6.0</td>\n",
       "      <td>4.88</td>\n",
       "      <td>13.0</td>\n",
       "    </tr>\n",
       "    <tr>\n",
       "      <th>1</th>\n",
       "      <td>ADDU-DP02B</td>\n",
       "      <td>ADDU</td>\n",
       "      <td>Dynamic</td>\n",
       "      <td>Pair</td>\n",
       "      <td>F</td>\n",
       "      <td>4.0</td>\n",
       "      <td>4.32</td>\n",
       "      <td>13.0</td>\n",
       "    </tr>\n",
       "    <tr>\n",
       "      <th>2</th>\n",
       "      <td>ADDU-DP03B</td>\n",
       "      <td>ADDU</td>\n",
       "      <td>Dynamic</td>\n",
       "      <td>Pair</td>\n",
       "      <td>F</td>\n",
       "      <td>4.0</td>\n",
       "      <td>3.53</td>\n",
       "      <td>10.0</td>\n",
       "    </tr>\n",
       "    <tr>\n",
       "      <th>3</th>\n",
       "      <td>ADDU-DP07B</td>\n",
       "      <td>ADDU</td>\n",
       "      <td>Dynamic</td>\n",
       "      <td>Pair</td>\n",
       "      <td>F</td>\n",
       "      <td>7.0</td>\n",
       "      <td>3.74</td>\n",
       "      <td>18.0</td>\n",
       "    </tr>\n",
       "    <tr>\n",
       "      <th>4</th>\n",
       "      <td>ADDU-SP02A</td>\n",
       "      <td>ADDU</td>\n",
       "      <td>Static</td>\n",
       "      <td>Pair</td>\n",
       "      <td>F</td>\n",
       "      <td>7.0</td>\n",
       "      <td>5.69</td>\n",
       "      <td>14.5</td>\n",
       "    </tr>\n",
       "  </tbody>\n",
       "</table>\n",
       "</div>"
      ],
      "text/plain": [
       "      student school static_or_dynamic individual_or_pair gender  \\\n",
       "0  ADDU-DP02A   ADDU           Dynamic               Pair      F   \n",
       "1  ADDU-DP02B   ADDU           Dynamic               Pair      F   \n",
       "2  ADDU-DP03B   ADDU           Dynamic               Pair      F   \n",
       "3  ADDU-DP07B   ADDU           Dynamic               Pair      F   \n",
       "4  ADDU-SP02A   ADDU          Static                 Pair      F   \n",
       "\n",
       "   pre_test_score  self_efficacy  debugging_scores  \n",
       "0             6.0           4.88              13.0  \n",
       "1             4.0           4.32              13.0  \n",
       "2             4.0           3.53              10.0  \n",
       "3             7.0           3.74              18.0  \n",
       "4             7.0           5.69              14.5  "
      ]
     },
     "execution_count": 12,
     "metadata": {},
     "output_type": "execute_result"
    }
   ],
   "source": [
    "# read and clean dataset\n",
    "scores_df = pd.read_excel(data_raw_score_dir + 'all scores.xlsx')\n",
    "scores_df = scores_df.dropna()\n",
    "scores_df = scores_df.rename(columns= {'Student ID': 'student', 'School': 'school', 'Static / Dynamic': 'static_or_dynamic',\n",
    "                                      'Individual / Pair': 'individual_or_pair', 'Gender': 'gender',\n",
    "                                      'Pre-test score': 'pre_test_score', 'Self-efficacy': 'self_efficacy',\n",
    "                                      'Debugging scores': 'debugging_scores'})\n",
    "\n",
    "scores_df.head()"
   ]
  },
  {
   "cell_type": "code",
   "execution_count": 13,
   "metadata": {},
   "outputs": [],
   "source": [
    "scores_df.to_csv(data_proc_dir + 'scores.csv')"
   ]
  },
  {
   "cell_type": "markdown",
   "metadata": {},
   "source": [
    "## Preliminary EDA"
   ]
  },
  {
   "cell_type": "code",
   "execution_count": 14,
   "metadata": {},
   "outputs": [
    {
     "data": {
      "text/plain": [
       "<matplotlib.axes._subplots.AxesSubplot at 0x1a174c2d30>"
      ]
     },
     "execution_count": 14,
     "metadata": {},
     "output_type": "execute_result"
    },
    {
     "data": {
      "image/png": "[encoded data removed]",
      "text/plain": [
       "<matplotlib.figure.Figure at 0x1a17598390>"
      ]
     },
     "metadata": {},
     "output_type": "display_data"
    }
   ],
   "source": [
    "plt.figure(figsize=(14,10))\n",
    "sns.boxplot(x=\"school\", hue=\"static_or_dynamic\", y=\"pre_test_score\", data=scores_df)"
   ]
  },
  {
   "cell_type": "code",
   "execution_count": 15,
   "metadata": {
    "scrolled": false
   },
   "outputs": [
    {
     "data": {
      "text/plain": [
       "<matplotlib.axes._subplots.AxesSubplot at 0x1a17680f28>"
      ]
     },
     "execution_count": 15,
     "metadata": {},
     "output_type": "execute_result"
    },
    {
     "data": {
      "image/png": "[encoded data removed]",
      "text/plain": [
       "<matplotlib.figure.Figure at 0x1a167da5c0>"
      ]
     },
     "metadata": {},
     "output_type": "display_data"
    }
   ],
   "source": [
    "plt.figure(figsize=(14,10))\n",
    "sns.boxplot(x=\"school\", hue=\"static_or_dynamic\", y=\"debugging_scores\", data=scores_df)"
   ]
  },
  {
   "cell_type": "code",
   "execution_count": 16,
   "metadata": {},
   "outputs": [
    {
     "data": {
      "text/plain": [
       "<matplotlib.axes._subplots.AxesSubplot at 0x1a1b967f60>"
      ]
     },
     "execution_count": 16,
     "metadata": {},
     "output_type": "execute_result"
    },
    {
     "data": {
      "image/png": "[encoded data removed]",
      "text/plain": [
       "<matplotlib.figure.Figure at 0x1a176b06a0>"
      ]
     },
     "metadata": {},
     "output_type": "display_data"
    }
   ],
   "source": [
    "plt.figure(figsize=(14,10))\n",
    "sns.boxplot(x=\"school\", hue=\"static_or_dynamic\", y=\"self_efficacy\", data=scores_df)"
   ]
  },
  {
   "cell_type": "markdown",
   "metadata": {},
   "source": [
    "## Merged label counts (per student) and score dataset"
   ]
  },
  {
   "cell_type": "code",
   "execution_count": 17,
   "metadata": {
    "scrolled": true
   },
   "outputs": [
    {
     "data": {
      "text/html": [
       "<div>\n",
       "<style scoped>\n",
       "    .dataframe tbody tr th:only-of-type {\n",
       "        vertical-align: middle;\n",
       "    }\n",
       "\n",
       "    .dataframe tbody tr th {\n",
       "        vertical-align: top;\n",
       "    }\n",
       "\n",
       "    .dataframe thead th {\n",
       "        text-align: right;\n",
       "    }\n",
       "</style>\n",
       "<table border=\"1\" class=\"dataframe\">\n",
       "  <thead>\n",
       "    <tr style=\"text-align: right;\">\n",
       "      <th>final_act</th>\n",
       "      <th>ArgCcl</th>\n",
       "      <th>ArgCnt</th>\n",
       "      <th>ArgCon</th>\n",
       "      <th>ArgEla</th>\n",
       "      <th>ArgRsn</th>\n",
       "      <th>EliOpn</th>\n",
       "      <th>EliPrp</th>\n",
       "      <th>EliSet</th>\n",
       "      <th>EliVer</th>\n",
       "      <th>ImpAct</th>\n",
       "      <th>...</th>\n",
       "      <th>InfNeu</th>\n",
       "      <th>InfNon</th>\n",
       "      <th>InfPos</th>\n",
       "      <th>InfSoc</th>\n",
       "      <th>InfSol</th>\n",
       "      <th>InfStm</th>\n",
       "      <th>ResCfm</th>\n",
       "      <th>ResDen</th>\n",
       "      <th>ResSol</th>\n",
       "      <th>ResStm</th>\n",
       "    </tr>\n",
       "    <tr>\n",
       "      <th>student</th>\n",
       "      <th></th>\n",
       "      <th></th>\n",
       "      <th></th>\n",
       "      <th></th>\n",
       "      <th></th>\n",
       "      <th></th>\n",
       "      <th></th>\n",
       "      <th></th>\n",
       "      <th></th>\n",
       "      <th></th>\n",
       "      <th></th>\n",
       "      <th></th>\n",
       "      <th></th>\n",
       "      <th></th>\n",
       "      <th></th>\n",
       "      <th></th>\n",
       "      <th></th>\n",
       "      <th></th>\n",
       "      <th></th>\n",
       "      <th></th>\n",
       "      <th></th>\n",
       "    </tr>\n",
       "  </thead>\n",
       "  <tbody>\n",
       "    <tr>\n",
       "      <th>ADDU-DP01A</th>\n",
       "      <td>0.0</td>\n",
       "      <td>0.0</td>\n",
       "      <td>0.0</td>\n",
       "      <td>0.0</td>\n",
       "      <td>1.0</td>\n",
       "      <td>4.0</td>\n",
       "      <td>0.0</td>\n",
       "      <td>0.0</td>\n",
       "      <td>3.0</td>\n",
       "      <td>4.0</td>\n",
       "      <td>...</td>\n",
       "      <td>0.0</td>\n",
       "      <td>5.0</td>\n",
       "      <td>0.0</td>\n",
       "      <td>2.0</td>\n",
       "      <td>1.0</td>\n",
       "      <td>2.0</td>\n",
       "      <td>3.0</td>\n",
       "      <td>0.0</td>\n",
       "      <td>1.0</td>\n",
       "      <td>1.0</td>\n",
       "    </tr>\n",
       "    <tr>\n",
       "      <th>ADDU-DP01B</th>\n",
       "      <td>0.0</td>\n",
       "      <td>0.0</td>\n",
       "      <td>0.0</td>\n",
       "      <td>0.0</td>\n",
       "      <td>0.0</td>\n",
       "      <td>3.0</td>\n",
       "      <td>0.0</td>\n",
       "      <td>0.0</td>\n",
       "      <td>0.0</td>\n",
       "      <td>4.0</td>\n",
       "      <td>...</td>\n",
       "      <td>0.0</td>\n",
       "      <td>1.0</td>\n",
       "      <td>1.0</td>\n",
       "      <td>2.0</td>\n",
       "      <td>3.0</td>\n",
       "      <td>5.0</td>\n",
       "      <td>4.0</td>\n",
       "      <td>0.0</td>\n",
       "      <td>3.0</td>\n",
       "      <td>2.0</td>\n",
       "    </tr>\n",
       "    <tr>\n",
       "      <th>ADDU-DP02A</th>\n",
       "      <td>0.0</td>\n",
       "      <td>0.0</td>\n",
       "      <td>0.0</td>\n",
       "      <td>0.0</td>\n",
       "      <td>0.0</td>\n",
       "      <td>9.0</td>\n",
       "      <td>1.0</td>\n",
       "      <td>0.0</td>\n",
       "      <td>13.0</td>\n",
       "      <td>6.0</td>\n",
       "      <td>...</td>\n",
       "      <td>0.0</td>\n",
       "      <td>4.0</td>\n",
       "      <td>3.0</td>\n",
       "      <td>0.0</td>\n",
       "      <td>9.0</td>\n",
       "      <td>11.0</td>\n",
       "      <td>3.0</td>\n",
       "      <td>1.0</td>\n",
       "      <td>3.0</td>\n",
       "      <td>3.0</td>\n",
       "    </tr>\n",
       "    <tr>\n",
       "      <th>ADDU-DP03A</th>\n",
       "      <td>0.0</td>\n",
       "      <td>0.0</td>\n",
       "      <td>0.0</td>\n",
       "      <td>1.0</td>\n",
       "      <td>0.0</td>\n",
       "      <td>3.0</td>\n",
       "      <td>0.0</td>\n",
       "      <td>0.0</td>\n",
       "      <td>0.0</td>\n",
       "      <td>0.0</td>\n",
       "      <td>...</td>\n",
       "      <td>0.0</td>\n",
       "      <td>1.0</td>\n",
       "      <td>0.0</td>\n",
       "      <td>1.0</td>\n",
       "      <td>0.0</td>\n",
       "      <td>2.0</td>\n",
       "      <td>1.0</td>\n",
       "      <td>0.0</td>\n",
       "      <td>0.0</td>\n",
       "      <td>0.0</td>\n",
       "    </tr>\n",
       "    <tr>\n",
       "      <th>ADDU-DP03B</th>\n",
       "      <td>0.0</td>\n",
       "      <td>0.0</td>\n",
       "      <td>0.0</td>\n",
       "      <td>1.0</td>\n",
       "      <td>0.0</td>\n",
       "      <td>4.0</td>\n",
       "      <td>3.0</td>\n",
       "      <td>0.0</td>\n",
       "      <td>6.0</td>\n",
       "      <td>7.0</td>\n",
       "      <td>...</td>\n",
       "      <td>0.0</td>\n",
       "      <td>2.0</td>\n",
       "      <td>2.0</td>\n",
       "      <td>0.0</td>\n",
       "      <td>4.0</td>\n",
       "      <td>12.0</td>\n",
       "      <td>6.0</td>\n",
       "      <td>1.0</td>\n",
       "      <td>11.0</td>\n",
       "      <td>4.0</td>\n",
       "    </tr>\n",
       "  </tbody>\n",
       "</table>\n",
       "<p>5 rows × 23 columns</p>\n",
       "</div>"
      ],
      "text/plain": [
       "final_act   ArgCcl  ArgCnt  ArgCon  ArgEla  ArgRsn  EliOpn  EliPrp  EliSet  \\\n",
       "student                                                                      \n",
       "ADDU-DP01A     0.0     0.0     0.0     0.0     1.0     4.0     0.0     0.0   \n",
       "ADDU-DP01B     0.0     0.0     0.0     0.0     0.0     3.0     0.0     0.0   \n",
       "ADDU-DP02A     0.0     0.0     0.0     0.0     0.0     9.0     1.0     0.0   \n",
       "ADDU-DP03A     0.0     0.0     0.0     1.0     0.0     3.0     0.0     0.0   \n",
       "ADDU-DP03B     0.0     0.0     0.0     1.0     0.0     4.0     3.0     0.0   \n",
       "\n",
       "final_act   EliVer  ImpAct   ...    InfNeu  InfNon  InfPos  InfSoc  InfSol  \\\n",
       "student                      ...                                             \n",
       "ADDU-DP01A     3.0     4.0   ...       0.0     5.0     0.0     2.0     1.0   \n",
       "ADDU-DP01B     0.0     4.0   ...       0.0     1.0     1.0     2.0     3.0   \n",
       "ADDU-DP02A    13.0     6.0   ...       0.0     4.0     3.0     0.0     9.0   \n",
       "ADDU-DP03A     0.0     0.0   ...       0.0     1.0     0.0     1.0     0.0   \n",
       "ADDU-DP03B     6.0     7.0   ...       0.0     2.0     2.0     0.0     4.0   \n",
       "\n",
       "final_act   InfStm  ResCfm  ResDen  ResSol  ResStm  \n",
       "student                                             \n",
       "ADDU-DP01A     2.0     3.0     0.0     1.0     1.0  \n",
       "ADDU-DP01B     5.0     4.0     0.0     3.0     2.0  \n",
       "ADDU-DP02A    11.0     3.0     1.0     3.0     3.0  \n",
       "ADDU-DP03A     2.0     1.0     0.0     0.0     0.0  \n",
       "ADDU-DP03B    12.0     6.0     1.0    11.0     4.0  \n",
       "\n",
       "[5 rows x 23 columns]"
      ]
     },
     "execution_count": 17,
     "metadata": {},
     "output_type": "execute_result"
    }
   ],
   "source": [
    "#get counts of final act per student\n",
    "stud_df = label_df.groupby(['student'])['final_act'].value_counts().reset_index(name='counts')\n",
    "\n",
    "# reshape the dataframe\n",
    "stud_df = stud_df.pivot(index='student', columns='final_act')['counts']\n",
    "\n",
    "# fill N/A\n",
    "stud_df = stud_df.fillna(0)\n",
    "stud_df.head()"
   ]
  },
  {
   "cell_type": "code",
   "execution_count": 18,
   "metadata": {},
   "outputs": [
    {
     "data": {
      "text/html": [
       "<div>\n",
       "<style scoped>\n",
       "    .dataframe tbody tr th:only-of-type {\n",
       "        vertical-align: middle;\n",
       "    }\n",
       "\n",
       "    .dataframe tbody tr th {\n",
       "        vertical-align: top;\n",
       "    }\n",
       "\n",
       "    .dataframe thead th {\n",
       "        text-align: right;\n",
       "    }\n",
       "</style>\n",
       "<table border=\"1\" class=\"dataframe\">\n",
       "  <thead>\n",
       "    <tr style=\"text-align: right;\">\n",
       "      <th></th>\n",
       "      <th>ArgCcl</th>\n",
       "      <th>ArgCnt</th>\n",
       "      <th>ArgCon</th>\n",
       "      <th>ArgEla</th>\n",
       "      <th>ArgRsn</th>\n",
       "      <th>EliOpn</th>\n",
       "      <th>EliPrp</th>\n",
       "      <th>EliSet</th>\n",
       "      <th>EliVer</th>\n",
       "      <th>ImpAct</th>\n",
       "      <th>...</th>\n",
       "      <th>ResDen</th>\n",
       "      <th>ResSol</th>\n",
       "      <th>ResStm</th>\n",
       "      <th>school</th>\n",
       "      <th>static_or_dynamic</th>\n",
       "      <th>individual_or_pair</th>\n",
       "      <th>gender</th>\n",
       "      <th>pre_test_score</th>\n",
       "      <th>self_efficacy</th>\n",
       "      <th>debugging_scores</th>\n",
       "    </tr>\n",
       "    <tr>\n",
       "      <th>student</th>\n",
       "      <th></th>\n",
       "      <th></th>\n",
       "      <th></th>\n",
       "      <th></th>\n",
       "      <th></th>\n",
       "      <th></th>\n",
       "      <th></th>\n",
       "      <th></th>\n",
       "      <th></th>\n",
       "      <th></th>\n",
       "      <th></th>\n",
       "      <th></th>\n",
       "      <th></th>\n",
       "      <th></th>\n",
       "      <th></th>\n",
       "      <th></th>\n",
       "      <th></th>\n",
       "      <th></th>\n",
       "      <th></th>\n",
       "      <th></th>\n",
       "      <th></th>\n",
       "    </tr>\n",
       "  </thead>\n",
       "  <tbody>\n",
       "    <tr>\n",
       "      <th>ADDU-DP01A</th>\n",
       "      <td>0.0</td>\n",
       "      <td>0.0</td>\n",
       "      <td>0.0</td>\n",
       "      <td>0.0</td>\n",
       "      <td>1.0</td>\n",
       "      <td>4.0</td>\n",
       "      <td>0.0</td>\n",
       "      <td>0.0</td>\n",
       "      <td>3.0</td>\n",
       "      <td>4.0</td>\n",
       "      <td>...</td>\n",
       "      <td>0.0</td>\n",
       "      <td>1.0</td>\n",
       "      <td>1.0</td>\n",
       "      <td>ADDU</td>\n",
       "      <td>Dynamic</td>\n",
       "      <td>Pair</td>\n",
       "      <td>M</td>\n",
       "      <td>8.0</td>\n",
       "      <td>5.53</td>\n",
       "      <td>25.0</td>\n",
       "    </tr>\n",
       "    <tr>\n",
       "      <th>ADDU-DP01B</th>\n",
       "      <td>0.0</td>\n",
       "      <td>0.0</td>\n",
       "      <td>0.0</td>\n",
       "      <td>0.0</td>\n",
       "      <td>0.0</td>\n",
       "      <td>3.0</td>\n",
       "      <td>0.0</td>\n",
       "      <td>0.0</td>\n",
       "      <td>0.0</td>\n",
       "      <td>4.0</td>\n",
       "      <td>...</td>\n",
       "      <td>0.0</td>\n",
       "      <td>3.0</td>\n",
       "      <td>2.0</td>\n",
       "      <td>ADDU</td>\n",
       "      <td>Dynamic</td>\n",
       "      <td>Pair</td>\n",
       "      <td>M</td>\n",
       "      <td>9.0</td>\n",
       "      <td>5.56</td>\n",
       "      <td>22.0</td>\n",
       "    </tr>\n",
       "    <tr>\n",
       "      <th>ADDU-DP02A</th>\n",
       "      <td>0.0</td>\n",
       "      <td>0.0</td>\n",
       "      <td>0.0</td>\n",
       "      <td>0.0</td>\n",
       "      <td>0.0</td>\n",
       "      <td>9.0</td>\n",
       "      <td>1.0</td>\n",
       "      <td>0.0</td>\n",
       "      <td>13.0</td>\n",
       "      <td>6.0</td>\n",
       "      <td>...</td>\n",
       "      <td>1.0</td>\n",
       "      <td>3.0</td>\n",
       "      <td>3.0</td>\n",
       "      <td>ADDU</td>\n",
       "      <td>Dynamic</td>\n",
       "      <td>Pair</td>\n",
       "      <td>F</td>\n",
       "      <td>6.0</td>\n",
       "      <td>4.88</td>\n",
       "      <td>13.0</td>\n",
       "    </tr>\n",
       "    <tr>\n",
       "      <th>ADDU-DP03A</th>\n",
       "      <td>0.0</td>\n",
       "      <td>0.0</td>\n",
       "      <td>0.0</td>\n",
       "      <td>1.0</td>\n",
       "      <td>0.0</td>\n",
       "      <td>3.0</td>\n",
       "      <td>0.0</td>\n",
       "      <td>0.0</td>\n",
       "      <td>0.0</td>\n",
       "      <td>0.0</td>\n",
       "      <td>...</td>\n",
       "      <td>0.0</td>\n",
       "      <td>0.0</td>\n",
       "      <td>0.0</td>\n",
       "      <td>ADDU</td>\n",
       "      <td>Dynamic</td>\n",
       "      <td>Pair</td>\n",
       "      <td>M</td>\n",
       "      <td>8.0</td>\n",
       "      <td>5.06</td>\n",
       "      <td>17.0</td>\n",
       "    </tr>\n",
       "    <tr>\n",
       "      <th>ADDU-DP03B</th>\n",
       "      <td>0.0</td>\n",
       "      <td>0.0</td>\n",
       "      <td>0.0</td>\n",
       "      <td>1.0</td>\n",
       "      <td>0.0</td>\n",
       "      <td>4.0</td>\n",
       "      <td>3.0</td>\n",
       "      <td>0.0</td>\n",
       "      <td>6.0</td>\n",
       "      <td>7.0</td>\n",
       "      <td>...</td>\n",
       "      <td>1.0</td>\n",
       "      <td>11.0</td>\n",
       "      <td>4.0</td>\n",
       "      <td>ADDU</td>\n",
       "      <td>Dynamic</td>\n",
       "      <td>Pair</td>\n",
       "      <td>F</td>\n",
       "      <td>4.0</td>\n",
       "      <td>3.53</td>\n",
       "      <td>10.0</td>\n",
       "    </tr>\n",
       "  </tbody>\n",
       "</table>\n",
       "<p>5 rows × 30 columns</p>\n",
       "</div>"
      ],
      "text/plain": [
       "            ArgCcl  ArgCnt  ArgCon  ArgEla  ArgRsn  EliOpn  EliPrp  EliSet  \\\n",
       "student                                                                      \n",
       "ADDU-DP01A     0.0     0.0     0.0     0.0     1.0     4.0     0.0     0.0   \n",
       "ADDU-DP01B     0.0     0.0     0.0     0.0     0.0     3.0     0.0     0.0   \n",
       "ADDU-DP02A     0.0     0.0     0.0     0.0     0.0     9.0     1.0     0.0   \n",
       "ADDU-DP03A     0.0     0.0     0.0     1.0     0.0     3.0     0.0     0.0   \n",
       "ADDU-DP03B     0.0     0.0     0.0     1.0     0.0     4.0     3.0     0.0   \n",
       "\n",
       "            EliVer  ImpAct        ...         ResDen  ResSol  ResStm  school  \\\n",
       "student                           ...                                          \n",
       "ADDU-DP01A     3.0     4.0        ...            0.0     1.0     1.0    ADDU   \n",
       "ADDU-DP01B     0.0     4.0        ...            0.0     3.0     2.0    ADDU   \n",
       "ADDU-DP02A    13.0     6.0        ...            1.0     3.0     3.0    ADDU   \n",
       "ADDU-DP03A     0.0     0.0        ...            0.0     0.0     0.0    ADDU   \n",
       "ADDU-DP03B     6.0     7.0        ...            1.0    11.0     4.0    ADDU   \n",
       "\n",
       "            static_or_dynamic  individual_or_pair  gender  pre_test_score  \\\n",
       "student                                                                     \n",
       "ADDU-DP01A            Dynamic                Pair       M             8.0   \n",
       "ADDU-DP01B            Dynamic                Pair       M             9.0   \n",
       "ADDU-DP02A            Dynamic                Pair       F             6.0   \n",
       "ADDU-DP03A            Dynamic                Pair       M             8.0   \n",
       "ADDU-DP03B            Dynamic                Pair       F             4.0   \n",
       "\n",
       "            self_efficacy  debugging_scores  \n",
       "student                                      \n",
       "ADDU-DP01A           5.53              25.0  \n",
       "ADDU-DP01B           5.56              22.0  \n",
       "ADDU-DP02A           4.88              13.0  \n",
       "ADDU-DP03A           5.06              17.0  \n",
       "ADDU-DP03B           3.53              10.0  \n",
       "\n",
       "[5 rows x 30 columns]"
      ]
     },
     "execution_count": 18,
     "metadata": {},
     "output_type": "execute_result"
    }
   ],
   "source": [
    "stud_df = stud_df.join(scores_df.set_index('student'))\n",
    "stud_df.head()"
   ]
  },
  {
   "cell_type": "code",
   "execution_count": 19,
   "metadata": {},
   "outputs": [],
   "source": [
    "stud_df.to_csv(data_proc_dir + 'student_data.csv')"
   ]
  }
 ],
 "metadata": {
  "kernelspec": {
   "display_name": "Python 3",
   "language": "python",
   "name": "python3"
  },
  "language_info": {
   "codemirror_mode": {
    "name": "ipython",
    "version": 3
   },
   "file_extension": ".py",
   "mimetype": "text/x-python",
   "name": "python",
   "nbconvert_exporter": "python",
   "pygments_lexer": "ipython3",
   "version": "3.6.4"
  }
 },
 "nbformat": 4,
 "nbformat_minor": 2
}
