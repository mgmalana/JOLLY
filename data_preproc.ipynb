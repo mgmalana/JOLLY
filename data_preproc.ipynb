{
 "cells": [
  {
   "cell_type": "markdown",
   "metadata": {},
   "source": [
    "- histogram of final vote classes (overall and per university)\n",
    "- box plot of test scores per university\n",
    "- interrator score\n",
    "\n",
    "General tasks:\n",
    "- collate labeled files in one dataframe\n",
    "- collate and preprocess (if necessary) test scores\n",
    "- provide basic quali and quanti analyses\n",
    "\n",
    "seaborn\n",
    "\n",
    "\n",
    "\n",
    "## To check\n",
    "- dapat walang \"VOTE\" under final act\n",
    "- delete other columns"
   ]
  },
  {
   "cell_type": "code",
   "execution_count": 83,
   "metadata": {},
   "outputs": [],
   "source": [
    "# Importing packages\n",
    "import numpy as np\n",
    "import pandas as pd\n",
    "import matplotlib.pyplot as plt\n",
    "import seaborn as sns\n",
    "\n",
    "import glob"
   ]
  },
  {
   "cell_type": "code",
   "execution_count": 84,
   "metadata": {},
   "outputs": [],
   "source": [
    "data_dir = \"data/\"\n",
    "data_raw_dir = data_dir +\"raw/\""
   ]
  },
  {
   "cell_type": "code",
   "execution_count": 214,
   "metadata": {
    "scrolled": true
   },
   "outputs": [],
   "source": [
    "# merge all excels into 1 data frame\n",
    "pm_df = pd.DataFrame()\n",
    "column_name_change = {\"TEXT\": \"text\", \"ORIGINAL TEXT/CONVO\": \"text\", \"Original text\": \"text\", \"PERSON\": \"person\",\n",
    "                      \"TRANSLATION\": \"translation\", \"A1\": \"a1\",\n",
    "                      \"A2\": \"a2\", \"Match\": \"match\", \"MATCH\": \"match\",\n",
    "                      \"FINAL\": \"final_act\", \"Final Act\": \"final_act\", \"Timestamp\": \"time\"}\n",
    "\n",
    "# iterate folders\n",
    "for folder in glob.iglob(data_raw_dir + '*/'):\n",
    "    for filename in glob.iglob(folder +'*.xlsx'):\n",
    "        school_name = folder.replace(data_raw_dir, '').replace('/', '')\n",
    "        filename = filename.replace(folder, '')\n",
    "\n",
    "        temp_df = pd.read_excel(data_raw_dir + school_name + \"/\" + filename)\n",
    "        temp_df = temp_df.rename(columns= column_name_change)\n",
    "\n",
    "        # add additional columns\n",
    "        temp_df['school'] = school_name\n",
    "        temp_df['filename'] = filename\n",
    "        \n",
    "        if not temp_df.index.is_integer():\n",
    "            temp_df['time'] = temp_df['time'] = np.array(list(temp_df.index.str.split(\":\", 1)))[:,1]\n",
    "\n",
    "        # remove unnamed columns\n",
    "        temp_df.loc[:, ~temp_df.columns.str.contains('^Unnamed')]\n",
    "        \n",
    "        # error checking on data\n",
    "        if not set(column_name_change.values()).issubset(temp_df.columns): # check if column are correct\n",
    "            raise Exception('Column names are incorrect in ' + filename)\n",
    "\n",
    "        if temp_df['final_act'].isnull().any():\n",
    "            raise Exception('Null final act in ' + filename)\n",
    "\n",
    "        if temp_df['final_act'].str.match(\"VOTE\").any():\n",
    "            raise Exception('Invalid final act in ' + filename)"
   ]
  }
 ],
 "metadata": {
  "kernelspec": {
   "display_name": "Python 3",
   "language": "python",
   "name": "python3"
  },
  "language_info": {
   "codemirror_mode": {
    "name": "ipython",
    "version": 3
   },
   "file_extension": ".py",
   "mimetype": "text/x-python",
   "name": "python",
   "nbconvert_exporter": "python",
   "pygments_lexer": "ipython3",
   "version": "3.6.4"
  }
 },
 "nbformat": 4,
 "nbformat_minor": 2
}
